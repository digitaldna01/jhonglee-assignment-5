{
 "cells": [
  {
   "cell_type": "markdown",
   "metadata": {},
   "source": [
    "# Data Preprocessing:\n",
    "- Handle missing values and ensure that all relevant features are properly scaled.\n",
    "- Analyze categorical and numerical variables to determine which are most important for churn prediction.\n",
    "- Perform feature selection or engineering to improve model performance.\n",
    "\n",
    "# Model Building:\n",
    "- Implement K-Nearest Neighbors (KNN) from scratch. Pre-built libraries (e.g., scikit-learn, TensorFlow) for KNN are not allowed.\n",
    "- Split the dataset and train the model to classify customers into churn and non-churn categories.\n",
    "- Explore different values for K and choose the optimal one based on performance metrics.\n",
    "- Tune the model by adjusting hyperparameters such as the distance metric (Euclidean, Manhattan, etc.).\n",
    "\n",
    "# Model Evaluation:\n",
    "- Evaluate the model using metrics such as accuracy, precision, recall, F1-score, area under the ROC curve.\n",
    "- Use cross-validation to ensure the model is not overfitting to the training data."
   ]
  },
  {
   "cell_type": "code",
   "execution_count": 3,
   "metadata": {},
   "outputs": [],
   "source": [
    "import numpy as np\n",
    "import pandas as pd"
   ]
  },
  {
   "cell_type": "code",
   "execution_count": 5,
   "metadata": {},
   "outputs": [],
   "source": [
    "# Define the KNN class\n",
    "class KNN:\n",
    "    def __init__(self, k=3, distance_metric='euclidean'):\n",
    "        self.k = k\n",
    "        self.distance_metric = distance_metric\n",
    "    \n",
    "    def euclidean_distance(self, point1, point2):\n",
    "        euclidean_distance = np.linalg.norm(point1 - point2)\n",
    "        return euclidean_distance\n",
    "    \n",
    "    def manhattan_distance(self, point1, point2):\n",
    "        manhattan_distance = np.sum(np.abs(point1 - point2))\n",
    "        return manhattan_distance\n",
    "\n",
    "    def cosine_distance(self, point1, point2):\n",
    "        cosine_distance = 1 - np.dot(point1, point2) / (np.linalg.norm(point1) * np.linalg.norm(point2))\n",
    "        return cosine_distance\n",
    "\n",
    "    def chebyshev_distance(self, point1, point2):\n",
    "        chebyshev_distance = np.max(np.abs(point1 - point2))\n",
    "        return chebyshev_distance\n",
    "\n",
    "    def fit(self, X, y):\n",
    "        # TODO: Implement the fit method\n",
    "        pass\n",
    "\n",
    "    def predict(self, X):\n",
    "        # TODO: Implement the predict method\n",
    "        pass\n",
    "\n",
    "    def compute_distance(self, X1, X2):\n",
    "        # TODO: Implement distance computation based on self.distance_metric\n",
    "        # Hint: Use numpy operations for efficient computation\n",
    "        pass"
   ]
  },
  {
   "cell_type": "code",
   "execution_count": 6,
   "metadata": {},
   "outputs": [],
   "source": [
    "# Define data preprocessing function\n",
    "def preprocess_data(train_path, test_path):\n",
    "    train_data = pd.read_csv(train_path)\n",
    "    test_data = pd.read_csv(test_path)\n",
    "\n",
    "    # TODO: Implement data preprocessing\n",
    "    # Handle categorical variables, scale features, etc.\n",
    "    pass"
   ]
  },
  {
   "cell_type": "code",
   "execution_count": 7,
   "metadata": {},
   "outputs": [],
   "source": [
    "# Define cross-validation function\n",
    "def cross_validate(X, y, knn, n_splits=5):\n",
    "    # TODO: Implement cross-validation\n",
    "    # Compute ROC AUC scores\n",
    "    pass"
   ]
  },
  {
   "cell_type": "code",
   "execution_count": null,
   "metadata": {},
   "outputs": [],
   "source": [
    "# Load and preprocess data\n",
    "X, y, X_test = preprocess_data('/path/of/train.csv', '/path/of/test.csv')\n",
    "\n",
    "# Create and evaluate model\n",
    "knn = KNN(k=5, distance_metric='euclidean')\n",
    "\n",
    "# Perform cross-validation\n",
    "cv_scores = cross_validate(X, y, knn)\n",
    "\n",
    "print(\"Cross-validation scores:\", cv_scores)\n",
    "\n",
    "# TODO: hyperparamters tuning\n",
    "\n",
    "\n",
    "# TODO: Train on full dataset with optimal hyperparameters and make predictions on test set\n",
    "knn = ...\n",
    "knn.fit(X, y)\n",
    "test_predictions = knn.predict(X_test)\n",
    "\n",
    "# Save test predictions\n",
    "pd.DataFrame({'id': pd.read_csv('/path/of/test.csv')['id'], 'Exited': test_predictions}).to_csv('submissions.csv', index=False)"
   ]
  },
  {
   "cell_type": "code",
   "execution_count": null,
   "metadata": {},
   "outputs": [],
   "source": []
  }
 ],
 "metadata": {
  "kernelspec": {
   "display_name": "Python 3",
   "language": "python",
   "name": "python3"
  },
  "language_info": {
   "codemirror_mode": {
    "name": "ipython",
    "version": 3
   },
   "file_extension": ".py",
   "mimetype": "text/x-python",
   "name": "python",
   "nbconvert_exporter": "python",
   "pygments_lexer": "ipython3",
   "version": "3.12.0"
  }
 },
 "nbformat": 4,
 "nbformat_minor": 2
}
